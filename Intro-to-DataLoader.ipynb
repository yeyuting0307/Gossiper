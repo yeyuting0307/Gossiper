{
 "cells": [
  {
   "cell_type": "markdown",
   "metadata": {
    "collapsed": true
   },
   "source": [
    "# Gossiping Dataset Dataloader\n",
    "\n",
    "## 引用 DataLoader"
   ]
  },
  {
   "cell_type": "code",
   "execution_count": 8,
   "metadata": {},
   "outputs": [],
   "source": [
    "from data_helper.DataLoader import GossipingDataLoader\n",
    "\n",
    "data_loader = GossipingDataLoader()"
   ]
  },
  {
   "cell_type": "markdown",
   "metadata": {},
   "source": [
    "## 載入資料集"
   ]
  },
  {
   "cell_type": "code",
   "execution_count": 2,
   "metadata": {},
   "outputs": [
    {
     "name": "stdout",
     "output_type": "stream",
     "text": [
      "Loading the Gossiping dataset...\n"
     ]
    }
   ],
   "source": [
    "data_loader.load_dataset('data/Gossiping-QA-Dataset.txt')"
   ]
  },
  {
   "cell_type": "code",
   "execution_count": 3,
   "metadata": {},
   "outputs": [
    {
     "name": "stdout",
     "output_type": "stream",
     "text": [
      "Q: 有沒有肥宅嗆邊緣人的八卦?\nA: 那如果是肥宅又是邊緣人怎麼辦\nQ: 大家開冷氣了嗎\nA: 早上開了冷氣，晚上開暖氣才不會感冒\nQ: 怎麼保障同性婚的領養權？\nA: 所以不管怎樣都有可能   辛苦的是相關審核人員\nQ: 辛苦的年輕爸媽找到幼兒園之後\nA: ptt的程度真的越來越差了\nQ: 現在買大立光有沒有搞頭\nA: 一個月買\"一\"股?\n"
     ]
    }
   ],
   "source": [
    "for q,a in data_loader.sample(sample_num=5):\n",
    "    print(\"Q:\", q)\n",
    "    print(\"A:\", a)"
   ]
  },
  {
   "cell_type": "markdown",
   "metadata": {},
   "source": [
    "## 資料預處理"
   ]
  },
  {
   "cell_type": "code",
   "execution_count": 4,
   "metadata": {},
   "outputs": [
    {
     "name": "stdout",
     "output_type": "stream",
     "text": [
      "Counting the word frequency...\n"
     ]
    },
    {
     "name": "stdout",
     "output_type": "stream",
     "text": [
      "Building the onehot encoding...\n"
     ]
    }
   ],
   "source": [
    "data_loader.calculate_word_frequency()\n",
    "data_loader.build_onehot_encoding()"
   ]
  },
  {
   "cell_type": "code",
   "execution_count": 5,
   "metadata": {},
   "outputs": [
    {
     "name": "stdout",
     "output_type": "stream",
     "text": [
      "共有 6934 個不同的字\n------------------------------\n查看字頻\n你 69311\n好 79190\n嗎 91334\n"
     ]
    }
   ],
   "source": [
    "print(\"共有 %d 個不同的字\" % (data_loader.num_different_words))\n",
    "\n",
    "print(\"-\"*30)\n",
    "\n",
    "print(\"查看字頻\")\n",
    "print(\"你\", data_loader.word_counter['你'])\n",
    "print(\"好\", data_loader.word_counter['好'])\n",
    "print(\"嗎\", data_loader.word_counter['嗎'])"
   ]
  },
  {
   "cell_type": "markdown",
   "metadata": {},
   "source": [
    "## 編碼關係"
   ]
  },
  {
   "cell_type": "markdown",
   "metadata": {},
   "source": [
    "### One-hot Encoding"
   ]
  },
  {
   "cell_type": "code",
   "execution_count": 6,
   "metadata": {
    "collapsed": true
   },
   "outputs": [
    {
     "name": "stdout",
     "output_type": "stream",
     "text": [
      "One-hot-Encoding\n------------------------------\n讚的 index 是 990\nOne-hot [ 0.  0.  0. ...,  0.  0.  0.]\nEncoding 會轉換為 讚\n------------------------------\n`的 index 是 4966\nOne-hot [ 0.  0.  0. ...,  0.  0.  0.]\nEncoding 會轉換為 `\n"
     ]
    }
   ],
   "source": [
    "print(\"One-hot-Encoding\")\n",
    "print(\"-\"*30)\n",
    "\n",
    "encoding = data_loader.word_to_encoding(\"讚\")\n",
    "word = data_loader.encoding_to_word(encoding)\n",
    "\n",
    "print(\"讚的 index 是\", data_loader.word_to_index('讚'))\n",
    "print(\"One-hot\", encoding)\n",
    "print(\"Encoding 會轉換為\", word)\n",
    "\n",
    "print(\"-\"*30)\n",
    "\n",
    "encoding = data_loader.word_to_encoding(\"`\")\n",
    "word = data_loader.encoding_to_word(encoding)\n",
    "\n",
    "print(\"`的 index 是\", data_loader.word_to_index('`'))\n",
    "print(\"One-hot\", encoding)\n",
    "print(\"Encoding 會轉換為\", word)"
   ]
  },
  {
   "cell_type": "markdown",
   "metadata": {},
   "source": [
    "## Index Sequence"
   ]
  },
  {
   "cell_type": "code",
   "execution_count": 7,
   "metadata": {},
   "outputs": [
    {
     "name": "stdout",
     "output_type": "stream",
     "text": [
      "歡迎來到PTT資料集 的 index list 是 [476, 760, 36, 115, 93, 94, 94, 1317, 346, 287]\n\n[476, 760, 36, 115, 93, 94, 94, 1317, 346, 287]  能夠還原為 歡迎來到PTT資料集\n"
     ]
    }
   ],
   "source": [
    "sentence = \"歡迎來到PTT資料集\"\n",
    "sent2index = data_loader.sentence_to_index(sentence)\n",
    "index2sent = data_loader.index_to_sentence(sent2index)\n",
    "\n",
    "print(sentence, \"的 index list 是\", sent2index)\n",
    "print()\n",
    "print(sent2index, \" 能夠還原為\", index2sent)"
   ]
  },
  {
   "cell_type": "markdown",
   "metadata": {},
   "source": [
    "## 詞頻限制\n",
    "\n",
    "將低字頻的字標記為 Unknown"
   ]
  },
  {
   "cell_type": "code",
   "execution_count": 9,
   "metadata": {},
   "outputs": [
    {
     "name": "stdout",
     "output_type": "stream",
     "text": [
      "Building the onehot encoding...\n"
     ]
    }
   ],
   "source": [
    "data_loader.build_onehot_encoding(unknown_bound=100) # 字頻低於 100 視為 UNKNOWN CHAR"
   ]
  },
  {
   "cell_type": "code",
   "execution_count": 10,
   "metadata": {},
   "outputs": [
    {
     "name": "stdout",
     "output_type": "stream",
     "text": [
      "字頻超過 100 的有 2823 個字\n"
     ]
    }
   ],
   "source": [
    "print(\"字頻超過 100 的有 %d 個字\" % (data_loader.num_different_words))"
   ]
  },
  {
   "cell_type": "code",
   "execution_count": 11,
   "metadata": {},
   "outputs": [
    {
     "name": "stdout",
     "output_type": "stream",
     "text": [
      "One-hot-Encoding\n------------------------------\n讚的 index 是 967\n讚的 One-hot [ 0.  0.  0. ...,  0.  0.  0.]\n而這個 Encoding 能還原為 讚\n------------------------------\n` 的 One-hot [ 1.  0.  0. ...,  0.  0.  0.]\n不過 Encoding 會轉換為 UNK 因為 ` 的字頻小於 100 \n"
     ]
    }
   ],
   "source": [
    "print(\"One-hot-Encoding\")\n",
    "print(\"-\"*30)\n",
    "\n",
    "encoding = data_loader.word_to_encoding(\"讚\")\n",
    "word = data_loader.encoding_to_word(encoding)\n",
    "\n",
    "print(\"讚的 index 是\", data_loader.word_to_index('讚'))\n",
    "print(\"讚的 One-hot\", encoding)\n",
    "print(\"而這個 Encoding 能還原為\", word)\n",
    "\n",
    "print(\"-\"*30)\n",
    "\n",
    "encoding = data_loader.word_to_encoding(\"`\")\n",
    "word = data_loader.encoding_to_word(encoding)\n",
    "\n",
    "print(\"` 的 One-hot\", encoding)\n",
    "print(\"不過 Encoding 會轉換為\", word, \"因為 ` 的字頻小於 100 \")"
   ]
  }
 ],
 "metadata": {
  "kernelspec": {
   "display_name": "Python 2",
   "language": "python",
   "name": "python2"
  },
  "language_info": {
   "codemirror_mode": {
    "name": "ipython",
    "version": 2.0
   },
   "file_extension": ".py",
   "mimetype": "text/x-python",
   "name": "python",
   "nbconvert_exporter": "python",
   "pygments_lexer": "ipython2",
   "version": "2.7.6"
  }
 },
 "nbformat": 4,
 "nbformat_minor": 0
}